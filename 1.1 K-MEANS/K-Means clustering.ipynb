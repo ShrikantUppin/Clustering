{
 "cells": [
  {
   "cell_type": "markdown",
   "metadata": {},
   "source": [
    "# Kmeans Clustering."
   ]
  },
  {
   "cell_type": "code",
   "execution_count": 67,
   "metadata": {
    "hide_input": true
   },
   "outputs": [],
   "source": [
    " # https://www.featureranking.com/tutorials/machine-learning-tutorials/sk-part-6-clustering/"
   ]
  },
  {
   "cell_type": "markdown",
   "metadata": {
    "hide_input": true
   },
   "source": [
    " ## Important Links:"
   ]
  },
  {
   "cell_type": "markdown",
   "metadata": {},
   "source": [
    "1. [Sklearn Clustering Notes](https://scikit-learn.org/stable/modules/clustering.html)\n",
    "\n",
    "\n",
    "2. [Kmeans clustering sklearn](https://scikit-learn.org/stable/modules/generated/sklearn.cluster.KMeans.html#sklearn.cluster.KMeans)\n",
    "\n",
    "***\n",
    "i) Parallel K-means Clustering:\n",
    "    \n",
    "* [ i) Parallel K-means Clustering. Sklearn demo 1](https://scikit-learn.org/stable/auto_examples/cluster/plot_kmeans_assumptions.html#sphx-glr-auto-examples-cluster-plot-kmeans-assumptions-py)\n",
    "* [ ii) Parallel K-means Clustering Kmeans using different cluster quality metrics](https://scikit-learn.org/stable/auto_examples/cluster/plot_kmeans_digits.html#sphx-glr-auto-examples-cluster-plot-kmeans-digits-py)\n",
    "    \n",
    "    \n",
    "ii) MiniBatch Kmeans\n",
    "    \n",
    "* [i) comparision between kmeans & Mini batch kmeans](https://scikitlearn.org/stable/auto_examples/cluster/plot_mini_batch_kmeans.html#sphx-glr-auto-examples-cluster-plot-mini-batch-kmeans-py)\n",
    "* [ii) Clustering text documents using k-means](https://scikit-learn.org/stable/auto_examples/text/plot_document_clustering.html#sphx-glr-auto-examples-text-plot-document-clustering-py)\n",
    "* [iii) Online learning of a dictionary of parts of faces](https://scikit-learn.org/stable/auto_examples/cluster/plot_dict_face_patches.html#sphx-glr-auto-examples-cluster-plot-dict-face-patches-py)\n",
    "\n",
    "     \n",
    "***\n",
    "\n",
    "3. [Clustering performance evaluation](https://scikit-learn.org/stable/modules/clustering.html#clustering-evaluation)"
   ]
  },
  {
   "cell_type": "markdown",
   "metadata": {},
   "source": []
  },
  {
   "cell_type": "markdown",
   "metadata": {},
   "source": [
    "# Step 1: Import libraries required."
   ]
  },
  {
   "cell_type": "code",
   "execution_count": 68,
   "metadata": {},
   "outputs": [],
   "source": [
    "import numpy as np\n",
    "import pandas as pd \n",
    "\n",
    "import matplotlib.pyplot as plt\n",
    "import seaborn as sns\n",
    "\n",
    "import warnings\n",
    "warnings.filterwarnings('ignore')"
   ]
  },
  {
   "cell_type": "markdown",
   "metadata": {},
   "source": [
    "# Step 2: Load dataset"
   ]
  },
  {
   "cell_type": "code",
   "execution_count": 69,
   "metadata": {},
   "outputs": [],
   "source": [
    "dataset = pd.read_excel('EastWestAirlines.xlsx', sheet_name='data')"
   ]
  },
  {
   "cell_type": "code",
   "execution_count": 70,
   "metadata": {},
   "outputs": [
    {
     "data": {
      "text/html": [
       "<div>\n",
       "<style scoped>\n",
       "    .dataframe tbody tr th:only-of-type {\n",
       "        vertical-align: middle;\n",
       "    }\n",
       "\n",
       "    .dataframe tbody tr th {\n",
       "        vertical-align: top;\n",
       "    }\n",
       "\n",
       "    .dataframe thead th {\n",
       "        text-align: right;\n",
       "    }\n",
       "</style>\n",
       "<table border=\"1\" class=\"dataframe\">\n",
       "  <thead>\n",
       "    <tr style=\"text-align: right;\">\n",
       "      <th></th>\n",
       "      <th>ID#</th>\n",
       "      <th>Balance</th>\n",
       "      <th>Qual_miles</th>\n",
       "      <th>cc1_miles</th>\n",
       "      <th>cc2_miles</th>\n",
       "      <th>cc3_miles</th>\n",
       "      <th>Bonus_miles</th>\n",
       "      <th>Bonus_trans</th>\n",
       "      <th>Flight_miles_12mo</th>\n",
       "      <th>Flight_trans_12</th>\n",
       "      <th>Days_since_enroll</th>\n",
       "      <th>Award?</th>\n",
       "    </tr>\n",
       "  </thead>\n",
       "  <tbody>\n",
       "    <tr>\n",
       "      <th>0</th>\n",
       "      <td>1</td>\n",
       "      <td>28143</td>\n",
       "      <td>0</td>\n",
       "      <td>1</td>\n",
       "      <td>1</td>\n",
       "      <td>1</td>\n",
       "      <td>174</td>\n",
       "      <td>1</td>\n",
       "      <td>0</td>\n",
       "      <td>0</td>\n",
       "      <td>7000</td>\n",
       "      <td>0</td>\n",
       "    </tr>\n",
       "    <tr>\n",
       "      <th>1</th>\n",
       "      <td>2</td>\n",
       "      <td>19244</td>\n",
       "      <td>0</td>\n",
       "      <td>1</td>\n",
       "      <td>1</td>\n",
       "      <td>1</td>\n",
       "      <td>215</td>\n",
       "      <td>2</td>\n",
       "      <td>0</td>\n",
       "      <td>0</td>\n",
       "      <td>6968</td>\n",
       "      <td>0</td>\n",
       "    </tr>\n",
       "    <tr>\n",
       "      <th>2</th>\n",
       "      <td>3</td>\n",
       "      <td>41354</td>\n",
       "      <td>0</td>\n",
       "      <td>1</td>\n",
       "      <td>1</td>\n",
       "      <td>1</td>\n",
       "      <td>4123</td>\n",
       "      <td>4</td>\n",
       "      <td>0</td>\n",
       "      <td>0</td>\n",
       "      <td>7034</td>\n",
       "      <td>0</td>\n",
       "    </tr>\n",
       "    <tr>\n",
       "      <th>3</th>\n",
       "      <td>4</td>\n",
       "      <td>14776</td>\n",
       "      <td>0</td>\n",
       "      <td>1</td>\n",
       "      <td>1</td>\n",
       "      <td>1</td>\n",
       "      <td>500</td>\n",
       "      <td>1</td>\n",
       "      <td>0</td>\n",
       "      <td>0</td>\n",
       "      <td>6952</td>\n",
       "      <td>0</td>\n",
       "    </tr>\n",
       "    <tr>\n",
       "      <th>4</th>\n",
       "      <td>5</td>\n",
       "      <td>97752</td>\n",
       "      <td>0</td>\n",
       "      <td>4</td>\n",
       "      <td>1</td>\n",
       "      <td>1</td>\n",
       "      <td>43300</td>\n",
       "      <td>26</td>\n",
       "      <td>2077</td>\n",
       "      <td>4</td>\n",
       "      <td>6935</td>\n",
       "      <td>1</td>\n",
       "    </tr>\n",
       "  </tbody>\n",
       "</table>\n",
       "</div>"
      ],
      "text/plain": [
       "   ID#  Balance  Qual_miles  cc1_miles  cc2_miles  cc3_miles  Bonus_miles  \\\n",
       "0    1    28143           0          1          1          1          174   \n",
       "1    2    19244           0          1          1          1          215   \n",
       "2    3    41354           0          1          1          1         4123   \n",
       "3    4    14776           0          1          1          1          500   \n",
       "4    5    97752           0          4          1          1        43300   \n",
       "\n",
       "   Bonus_trans  Flight_miles_12mo  Flight_trans_12  Days_since_enroll  Award?  \n",
       "0            1                  0                0               7000       0  \n",
       "1            2                  0                0               6968       0  \n",
       "2            4                  0                0               7034       0  \n",
       "3            1                  0                0               6952       0  \n",
       "4           26               2077                4               6935       1  "
      ]
     },
     "execution_count": 70,
     "metadata": {},
     "output_type": "execute_result"
    }
   ],
   "source": [
    "dataset.head()"
   ]
  },
  {
   "cell_type": "code",
   "execution_count": 71,
   "metadata": {},
   "outputs": [],
   "source": [
    "# Column rename.\n",
    "\n",
    "dataset= dataset.rename(columns={'ID#':'ID', 'Award?':'Award'})"
   ]
  },
  {
   "cell_type": "markdown",
   "metadata": {},
   "source": [
    "Data feature information availabele in https://github.com/ShrikantUppin/Clustering/tree/main/1.%20Data%20preprocessing%20%26%20PCA%20output"
   ]
  },
  {
   "cell_type": "markdown",
   "metadata": {},
   "source": [
    "# Step 3: Data preprocessing "
   ]
  },
  {
   "cell_type": "code",
   "execution_count": 72,
   "metadata": {},
   "outputs": [
    {
     "data": {
      "text/html": [
       "<div>\n",
       "<style scoped>\n",
       "    .dataframe tbody tr th:only-of-type {\n",
       "        vertical-align: middle;\n",
       "    }\n",
       "\n",
       "    .dataframe tbody tr th {\n",
       "        vertical-align: top;\n",
       "    }\n",
       "\n",
       "    .dataframe thead th {\n",
       "        text-align: right;\n",
       "    }\n",
       "</style>\n",
       "<table border=\"1\" class=\"dataframe\">\n",
       "  <thead>\n",
       "    <tr style=\"text-align: right;\">\n",
       "      <th></th>\n",
       "      <th>Balance</th>\n",
       "      <th>Qual_miles</th>\n",
       "      <th>cc1_miles</th>\n",
       "      <th>cc2_miles</th>\n",
       "      <th>cc3_miles</th>\n",
       "      <th>Bonus_miles</th>\n",
       "      <th>Bonus_trans</th>\n",
       "      <th>Flight_miles_12mo</th>\n",
       "      <th>Flight_trans_12</th>\n",
       "      <th>Days_since_enroll</th>\n",
       "    </tr>\n",
       "  </thead>\n",
       "  <tbody>\n",
       "    <tr>\n",
       "      <th>0</th>\n",
       "      <td>28143</td>\n",
       "      <td>0</td>\n",
       "      <td>1</td>\n",
       "      <td>1</td>\n",
       "      <td>1</td>\n",
       "      <td>174</td>\n",
       "      <td>1</td>\n",
       "      <td>0</td>\n",
       "      <td>0</td>\n",
       "      <td>7000</td>\n",
       "    </tr>\n",
       "    <tr>\n",
       "      <th>1</th>\n",
       "      <td>19244</td>\n",
       "      <td>0</td>\n",
       "      <td>1</td>\n",
       "      <td>1</td>\n",
       "      <td>1</td>\n",
       "      <td>215</td>\n",
       "      <td>2</td>\n",
       "      <td>0</td>\n",
       "      <td>0</td>\n",
       "      <td>6968</td>\n",
       "    </tr>\n",
       "  </tbody>\n",
       "</table>\n",
       "</div>"
      ],
      "text/plain": [
       "   Balance  Qual_miles  cc1_miles  cc2_miles  cc3_miles  Bonus_miles  \\\n",
       "0    28143           0          1          1          1          174   \n",
       "1    19244           0          1          1          1          215   \n",
       "\n",
       "   Bonus_trans  Flight_miles_12mo  Flight_trans_12  Days_since_enroll  \n",
       "0            1                  0                0               7000  \n",
       "1            2                  0                0               6968  "
      ]
     },
     "execution_count": 72,
     "metadata": {},
     "output_type": "execute_result"
    }
   ],
   "source": [
    "# not going to falloe EDA step here since it is already done in link1.(Above cell)\n",
    "# as we know ID & award will not make much contribution during clutering. we will drop both columns.\n",
    "\n",
    "dataset1 =  dataset.drop(['ID','Award'], axis=1)\n",
    "dataset1.head(2)"
   ]
  },
  {
   "cell_type": "markdown",
   "metadata": {},
   "source": [
    " ## I am using two transformation..since to ckeck how cluster numbers varry with diff transformation."
   ]
  },
  {
   "cell_type": "markdown",
   "metadata": {},
   "source": [
    " ### standardization"
   ]
  },
  {
   "cell_type": "code",
   "execution_count": 73,
   "metadata": {},
   "outputs": [
    {
     "data": {
      "text/plain": [
       "(3999, 10)"
      ]
     },
     "execution_count": 73,
     "metadata": {},
     "output_type": "execute_result"
    }
   ],
   "source": [
    "\n",
    "from sklearn.preprocessing import StandardScaler\n",
    "\n",
    "std_df = StandardScaler().fit_transform(dataset1)      # this will used for kmeans\n",
    "std_df.shape"
   ]
  },
  {
   "cell_type": "markdown",
   "metadata": {},
   "source": [
    " ### MinMaxScalar"
   ]
  },
  {
   "cell_type": "code",
   "execution_count": 74,
   "metadata": {},
   "outputs": [
    {
     "data": {
      "text/plain": [
       "(3999, 10)"
      ]
     },
     "execution_count": 74,
     "metadata": {},
     "output_type": "execute_result"
    }
   ],
   "source": [
    "# Using Minmaxscaler for accuracy result comparison\n",
    "\n",
    "from sklearn.preprocessing import MinMaxScaler\n",
    "minmax = MinMaxScaler()\n",
    "\n",
    "minmax_df = minmax.fit_transform(dataset1)\n",
    "minmax_df.shape"
   ]
  },
  {
   "cell_type": "markdown",
   "metadata": {},
   "source": [
    "# Step 4: PCA"
   ]
  },
  {
   "cell_type": "markdown",
   "metadata": {},
   "source": [
    " ### 4.1 Running PCA of standardized data."
   ]
  },
  {
   "cell_type": "code",
   "execution_count": 75,
   "metadata": {},
   "outputs": [],
   "source": [
    "# applying PCA on std_df\n",
    "\n",
    "# we are considering 95% variance in n_components to not loose any data.\n",
    "\n",
    "from sklearn.decomposition import PCA\n",
    "pca_std = PCA(random_state=10, n_components=0.95)\n",
    "pca_std_df= pca_std.fit_transform(std_df)"
   ]
  },
  {
   "cell_type": "code",
   "execution_count": 76,
   "metadata": {},
   "outputs": [
    {
     "name": "stdout",
     "output_type": "stream",
     "text": [
      "[110.44189995  83.11377294  64.82616793  63.48944763  61.96605949\n",
      "  60.17942085  51.82140955  38.09870033]\n"
     ]
    }
   ],
   "source": [
    "# eigenvalues..\n",
    "\n",
    "print(pca_std.singular_values_)"
   ]
  },
  {
   "cell_type": "code",
   "execution_count": 77,
   "metadata": {},
   "outputs": [
    {
     "name": "stdout",
     "output_type": "stream",
     "text": [
      "[30.50115845 17.27406665 10.5087073  10.07979485  9.60188179  9.05617078\n",
      "  6.71532505  3.62968484]\n"
     ]
    }
   ],
   "source": [
    "# variance containing in each formed PCA\n",
    "\n",
    "print(pca_std.explained_variance_ratio_*100)"
   ]
  },
  {
   "cell_type": "code",
   "execution_count": 78,
   "metadata": {},
   "outputs": [
    {
     "data": {
      "text/plain": [
       "array([30.50115845, 47.7752251 , 58.28393239, 68.36372724, 77.96560903,\n",
       "       87.02177981, 93.73710486, 97.3667897 ])"
      ]
     },
     "execution_count": 78,
     "metadata": {},
     "output_type": "execute_result"
    }
   ],
   "source": [
    "# Cummulative variance ratio..\n",
    "\n",
    "# this will give an idea of, at how many no. of PCAs, the cummulative addition of\n",
    "#........variance will give much information..\n",
    "\n",
    "cum_variance = np.cumsum(pca_std.explained_variance_ratio_*100)\n",
    "cum_variance"
   ]
  },
  {
   "cell_type": "markdown",
   "metadata": {},
   "source": [
    " Conclusion:\n",
    " \n",
    " * by applying PCA on standardized data with 95% variance it gives 8 PCA components."
   ]
  },
  {
   "cell_type": "markdown",
   "metadata": {},
   "source": [
    " ### 4.2 Running PCA of MinMaxscalar data."
   ]
  },
  {
   "cell_type": "code",
   "execution_count": 79,
   "metadata": {},
   "outputs": [],
   "source": [
    "# applying PCA on minmax_df\n",
    "\n",
    "from sklearn.decomposition import PCA\n",
    "\n",
    "pca_minmax =  PCA(random_state=10, n_components=0.95)\n",
    "pca_minmax_df = pca_minmax.fit_transform(minmax_df)"
   ]
  },
  {
   "cell_type": "code",
   "execution_count": 80,
   "metadata": {},
   "outputs": [
    {
     "name": "stdout",
     "output_type": "stream",
     "text": [
      "[23.30644253 14.98078096  6.73641543  4.71018421  4.35528647]\n"
     ]
    }
   ],
   "source": [
    "# eigenvalues..\n",
    "\n",
    "print(pca_minmax.singular_values_)"
   ]
  },
  {
   "cell_type": "code",
   "execution_count": 81,
   "metadata": {},
   "outputs": [
    {
     "name": "stdout",
     "output_type": "stream",
     "text": [
      "[60.47067269 24.98398618  5.05185116  2.46983879  2.11167109]\n"
     ]
    }
   ],
   "source": [
    "# variance containing in each formed PCA\n",
    "\n",
    "print(pca_minmax.explained_variance_ratio_*100)"
   ]
  },
  {
   "cell_type": "markdown",
   "metadata": {},
   "source": [
    " Conclusion:\n",
    " \n",
    " * By applying PCA on MinMaxscalr transformation data gives 5 PCA components."
   ]
  },
  {
   "cell_type": "markdown",
   "metadata": {},
   "source": [
    "# Step 5: KMeans Clustering.\n",
    "***"
   ]
  },
  {
   "cell_type": "markdown",
   "metadata": {},
   "source": [
    "## 5.1.1 How many numbers of cluster. Also deciding which transformation data we will use to build model."
   ]
  },
  {
   "cell_type": "markdown",
   "metadata": {},
   "source": [
    "##### First Stage: Taking stadardization transformation data & PCA applied on it.\n",
    "***"
   ]
  },
  {
   "cell_type": "markdown",
   "metadata": {},
   "source": [
    " #### Method1:"
   ]
  },
  {
   "cell_type": "code",
   "execution_count": 82,
   "metadata": {
    "scrolled": false
   },
   "outputs": [
    {
     "name": "stdout",
     "output_type": "stream",
     "text": [
      "model1\n"
     ]
    },
    {
     "data": {
      "image/png": "[encoded data removed]",
      "text/plain": [
       "<Figure size 576x396 with 1 Axes>"
      ]
     },
     "metadata": {},
     "output_type": "display_data"
    },
    {
     "name": "stdout",
     "output_type": "stream",
     "text": [
      "model2\n"
     ]
    },
    {
     "data": {
      "image/png": "[encoded data removed]",
      "text/plain": [
       "<Figure size 576x396 with 1 Axes>"
      ]
     },
     "metadata": {},
     "output_type": "display_data"
    }
   ],
   "source": [
    "# 1. How many number of clusters? n_clusters?\n",
    "\n",
    "# Since true labels are not known..we will Silhouette Coefficient (Clustering performance evaluation)\n",
    "# knee Elbow graph method\n",
    "\n",
    "#Import the KElbowVisualizer method\n",
    "from sklearn.cluster import KMeans\n",
    "from yellowbrick.cluster import KElbowVisualizer\n",
    "\n",
    "\n",
    "# Instantiate a scikit-learn K-Means model. we will check for two diff hyperparameters value effect.\n",
    "model1 = KMeans(random_state=0,n_jobs=-1)\n",
    "model2 = KMeans(random_state=10, n_jobs=-1, max_iter=500, n_init=20)\n",
    "\n",
    "# Instantiate the KElbowVisualizer with the number of clusters and the metric\n",
    "visualizer1 = KElbowVisualizer(model1, k=(2,10), metric='silhouette', timings=False)\n",
    "visualizer2 = KElbowVisualizer(model2, k=(2,10), metric='silhouette', timings=False)\n",
    "# Fit the data and visualize\n",
    "print('model1')\n",
    "visualizer1.fit(pca_std_df)    \n",
    "visualizer1.poof()\n",
    "plt.show()\n",
    "\n",
    "print('model2')\n",
    "visualizer2.fit(pca_std_df)    \n",
    "visualizer2.poof()\n",
    "plt.show()"
   ]
  },
  {
   "cell_type": "markdown",
   "metadata": {},
   "source": [
    " #### Conclusion:\n",
    " \n",
    "* Since we don't know true labels so we have used silhoutte score method to determine good k numbers based on score.\n",
    "\n",
    "\n",
    "* Also it is proved that even if we feed data either PCA or scaled data outliers will always affect in kmeans clustering. Also when random_state value, max_iter number n_int chnaged the clustering numbers changed.\n",
    "\n",
    "\n",
    "* So before using KMeans clustering it is better to have discussion or decision on outliers."
   ]
  },
  {
   "cell_type": "markdown",
   "metadata": {},
   "source": [
    " #### Method 2"
   ]
  },
  {
   "cell_type": "code",
   "execution_count": 83,
   "metadata": {
    "scrolled": true
   },
   "outputs": [
    {
     "name": "stdout",
     "output_type": "stream",
     "text": [
      "For n_clusters = 2 The average silhouette_score is : 0.36397881678961763\n",
      "For n_clusters = 3 The average silhouette_score is : 0.3403814231068285\n",
      "For n_clusters = 4 The average silhouette_score is : 0.3381189559647632\n",
      "For n_clusters = 5 The average silhouette_score is : 0.3488588702945302\n",
      "For n_clusters = 6 The average silhouette_score is : 0.3665724589453309\n",
      "For n_clusters = 7 The average silhouette_score is : 0.2677310100582736\n",
      "For n_clusters = 8 The average silhouette_score is : 0.2828423666585155\n",
      "For n_clusters = 9 The average silhouette_score is : 0.27087656757092415\n"
     ]
    }
   ],
   "source": [
    "from sklearn.metrics import silhouette_score\n",
    "\n",
    "list1= [2,3,4,5,6,7,8,9]  # always start number from 2.\n",
    "\n",
    "for n_clusters in list1:\n",
    "    clusterer1 = KMeans(n_clusters=n_clusters, random_state=0,n_jobs=-1)\n",
    "    cluster_labels1 = clusterer1.fit_predict(pca_std_df)\n",
    "    sil_score1= silhouette_score(pca_std_df, cluster_labels1)\n",
    "    print(\"For n_clusters =\", n_clusters,\"The average silhouette_score is :\", sil_score1)"
   ]
  },
  {
   "cell_type": "markdown",
   "metadata": {},
   "source": [
    " #### Conclusion:\n",
    "    \n",
    " * By taking standardize data pca it gives number of cluster =6 with silhoette score = 0.36"
   ]
  },
  {
   "cell_type": "markdown",
   "metadata": {},
   "source": [
    "##### Second Stage: Taking MinMaxScalar transformation data & PCA applied on it."
   ]
  },
  {
   "cell_type": "code",
   "execution_count": 84,
   "metadata": {},
   "outputs": [
    {
     "name": "stdout",
     "output_type": "stream",
     "text": [
      "model3\n"
     ]
    },
    {
     "data": {
      "image/png": "[encoded data removed]",
      "text/plain": [
       "<Figure size 576x396 with 1 Axes>"
      ]
     },
     "metadata": {},
     "output_type": "display_data"
    },
    {
     "name": "stdout",
     "output_type": "stream",
     "text": [
      "model4\n"
     ]
    },
    {
     "data": {
      "image/png": "[encoded data removed]",
      "text/plain": [
       "<Figure size 576x396 with 1 Axes>"
      ]
     },
     "metadata": {},
     "output_type": "display_data"
    }
   ],
   "source": [
    "# 1. How many number of clusters? n_clusters?\n",
    "\n",
    "# Since true labels are not known..we will Silhouette Coefficient (Clustering performance evaluation)\n",
    "# knee Elbow graph method\n",
    "\n",
    "#Import the KElbowVisualizer method\n",
    "from sklearn.cluster import KMeans\n",
    "from yellowbrick.cluster import KElbowVisualizer\n",
    "\n",
    "\n",
    "# Instantiate a scikit-learn K-Means model. we will check for two diff hyperparameters value effect.\n",
    "model3 = KMeans(random_state=0,n_jobs=-1)\n",
    "model4 = KMeans(random_state=10, n_jobs=-1, max_iter=500, n_init=20)\n",
    "\n",
    "# Instantiate the KElbowVisualizer with the number of clusters and the metric\n",
    "visualizer3 = KElbowVisualizer(model3, k=(2,10), metric='silhouette', timings=False)\n",
    "visualizer4 = KElbowVisualizer(model4, k=(2,10), metric='silhouette', timings=False)\n",
    "# Fit the data and visualize\n",
    "print('model3')\n",
    "visualizer3.fit(pca_minmax_df)    \n",
    "visualizer3.poof()\n",
    "plt.show()\n",
    "\n",
    "print('model4')\n",
    "visualizer4.fit(pca_minmax_df)    \n",
    "visualizer4.poof()\n",
    "plt.show()"
   ]
  },
  {
   "cell_type": "markdown",
   "metadata": {},
   "source": [
    " #### method2:"
   ]
  },
  {
   "cell_type": "code",
   "execution_count": 85,
   "metadata": {},
   "outputs": [
    {
     "name": "stdout",
     "output_type": "stream",
     "text": [
      "For n_clusters = 2 The average silhouette_score is : 0.14762674461920125\n",
      "For n_clusters = 3 The average silhouette_score is : 0.14762674461920125\n",
      "For n_clusters = 4 The average silhouette_score is : 0.14762674461920125\n",
      "For n_clusters = 5 The average silhouette_score is : 0.14762674461920125\n",
      "For n_clusters = 6 The average silhouette_score is : 0.14762674461920125\n",
      "For n_clusters = 7 The average silhouette_score is : 0.14762674461920125\n",
      "For n_clusters = 8 The average silhouette_score is : 0.14762674461920125\n",
      "For n_clusters = 9 The average silhouette_score is : 0.14762674461920125\n"
     ]
    }
   ],
   "source": [
    "from sklearn.metrics import silhouette_score\n",
    "\n",
    "list1= [2,3,4,5,6,7,8,9]  # always start number from 2.\n",
    "\n",
    "for n_clusters in list1:\n",
    "    clusterer2 = KMeans(n_clusters=n_clusters, random_state=0,n_jobs=-1)\n",
    "    cluster_labels2 = clusterer1.fit_predict(pca_minmax_df)\n",
    "    sil_score2= silhouette_score(pca_std_df, cluster_labels2)\n",
    "    print(\"For n_clusters =\", n_clusters,\"The average silhouette_score is :\", sil_score2)"
   ]
  },
  {
   "cell_type": "markdown",
   "metadata": {},
   "source": [
    "#### Conclusion:\n",
    "    \n",
    " * By taking pca_minmax_df data it gives minimum number of cluster =4 with silhoette score = 0.1476\n",
    " \n",
    " \n",
    " * If we check silhouette score with standardize data pca kmeans model 0.36>0.14 So we will PCA which is applied on normalizatied data. Since the score is very less. Best score alwways close to +1."
   ]
  },
  {
   "cell_type": "markdown",
   "metadata": {},
   "source": [
    "## 5.1.2 Run K-Means:"
   ]
  },
  {
   "cell_type": "code",
   "execution_count": 86,
   "metadata": {},
   "outputs": [
    {
     "data": {
      "text/plain": [
       "(3999,)"
      ]
     },
     "execution_count": 86,
     "metadata": {},
     "output_type": "execute_result"
    }
   ],
   "source": [
    "# we have found good number of cluster = 6\n",
    "# model building using cluster numbers = 6\n",
    "\n",
    "model1 = KMeans(n_clusters=6, random_state=0,n_jobs=-1)\n",
    "y_predict1 = model1.fit_predict(pca_std_df)\n",
    "y_predict1.shape"
   ]
  },
  {
   "cell_type": "code",
   "execution_count": 87,
   "metadata": {},
   "outputs": [
    {
     "data": {
      "text/plain": [
       "array([1, 1, 1, ..., 1, 1, 1])"
      ]
     },
     "execution_count": 87,
     "metadata": {},
     "output_type": "execute_result"
    }
   ],
   "source": [
    "# these are nothing but cluster labels...\n",
    "\n",
    "y_predict1"
   ]
  },
  {
   "cell_type": "code",
   "execution_count": 88,
   "metadata": {},
   "outputs": [
    {
     "data": {
      "text/plain": [
       "array([1, 1, 1, ..., 1, 1, 1])"
      ]
     },
     "execution_count": 88,
     "metadata": {},
     "output_type": "execute_result"
    }
   ],
   "source": [
    "# y_predict & cluster labels both are same use any one of them to avoid further confusion.\n",
    "\n",
    "model1.labels_"
   ]
  },
  {
   "cell_type": "code",
   "execution_count": 89,
   "metadata": {},
   "outputs": [
    {
     "data": {
      "text/plain": [
       "array([[ 1.40946275e+00, -1.01129248e+00, -8.23843161e-02,\n",
       "         9.86412993e-02, -2.56008051e-01, -2.43931657e-01,\n",
       "        -7.40640231e-02, -1.43349830e-02],\n",
       "       [-1.03618281e+00,  2.58724341e-01, -1.45470873e-02,\n",
       "        -8.64531845e-02, -5.37230371e-02,  1.37714954e-01,\n",
       "         5.73121640e-02, -2.18692957e-03],\n",
       "       [ 4.25165028e+00,  4.10908160e+00,  1.48662899e-01,\n",
       "        -2.15415252e-01, -6.18448771e-01,  4.99526780e-01,\n",
       "        -5.24799096e-02,  1.44221559e-01],\n",
       "       [ 1.00930830e+00,  1.64553073e+00, -3.00204858e+00,\n",
       "        -1.50525621e+00,  4.87613963e+00, -2.83327858e+00,\n",
       "        -8.15524057e-01, -2.42368955e-02],\n",
       "       [ 4.76675141e-02,  1.06794180e+00,  3.90187367e+00,\n",
       "         7.28531492e+00,  3.55053601e+00, -6.82561937e-01,\n",
       "         2.01781543e-01,  2.39276034e-01],\n",
       "       [ 4.35245436e+00, -3.63296061e+00,  8.67825558e+00,\n",
       "        -7.27101378e+00,  7.22379804e+00,  6.82996771e+00,\n",
       "         1.09780252e-01, -3.57742407e-01]])"
      ]
     },
     "execution_count": 89,
     "metadata": {},
     "output_type": "execute_result"
    }
   ],
   "source": [
    "# cluster centres associated with each lables\n",
    "\n",
    "model1.cluster_centers_"
   ]
  },
  {
   "cell_type": "code",
   "execution_count": 90,
   "metadata": {},
   "outputs": [
    {
     "data": {
      "text/plain": [
       "16718.396765236546"
      ]
     },
     "execution_count": 90,
     "metadata": {},
     "output_type": "execute_result"
    }
   ],
   "source": [
    "# within-cluster sum of squared\n",
    "\n",
    "# The lower values of inertia are better and zero is optimal.\n",
    "# Inertia is the sum of squared error for each cluster. \n",
    "# Therefore the smaller the inertia the denser the cluster(closer together all the points are)\n",
    "\n",
    "model1.inertia_"
   ]
  },
  {
   "cell_type": "code",
   "execution_count": 91,
   "metadata": {},
   "outputs": [
    {
     "data": {
      "text/plain": [
       "-16718.396765236546"
      ]
     },
     "execution_count": 91,
     "metadata": {},
     "output_type": "execute_result"
    }
   ],
   "source": [
    "model1.score(pca_std_df) \n",
    "\n",
    "# it is opposite value of sum of squared value..avoid to use it. It is bit confusing"
   ]
  },
  {
   "cell_type": "code",
   "execution_count": 92,
   "metadata": {},
   "outputs": [
    {
     "data": {
      "text/plain": [
       "{'algorithm': 'auto',\n",
       " 'copy_x': True,\n",
       " 'init': 'k-means++',\n",
       " 'max_iter': 300,\n",
       " 'n_clusters': 6,\n",
       " 'n_init': 10,\n",
       " 'n_jobs': -1,\n",
       " 'precompute_distances': 'deprecated',\n",
       " 'random_state': 0,\n",
       " 'tol': 0.0001,\n",
       " 'verbose': 0}"
      ]
     },
     "execution_count": 92,
     "metadata": {},
     "output_type": "execute_result"
    }
   ],
   "source": [
    "# this will give what hyper parameter is used in model.\n",
    "\n",
    "\n",
    "model1.get_params()"
   ]
  },
  {
   "cell_type": "markdown",
   "metadata": {},
   "source": [
    "## 5.1.3 visualizing silhoutte score..for different cluster"
   ]
  },
  {
   "cell_type": "code",
   "execution_count": 93,
   "metadata": {},
   "outputs": [
    {
     "data": {
      "image/png": "[encoded data removed]",
      "text/plain": [
       "<Figure size 1080x432 with 2 Axes>"
      ]
     },
     "metadata": {},
     "output_type": "display_data"
    }
   ],
   "source": [
    "from yellowbrick.cluster import SilhouetteVisualizer\n",
    "\n",
    "fig,(ax1,ax2) = plt.subplots(1,2,sharey=False)\n",
    "fig.set_size_inches(15,6)\n",
    "\n",
    "\n",
    "\n",
    "sil_visualizer1 = SilhouetteVisualizer(model1,ax= ax1, colors=['#922B21','#5B2C6F','#1B4F72','#32a84a','#a83232','#323aa8'])\n",
    "sil_visualizer1.fit(pca_std_df)\n",
    "\n",
    "\n",
    "# 2nd Plot showing the actual clusters formed\n",
    "\n",
    "import matplotlib.cm as cm\n",
    "colors1 = cm.nipy_spectral(model1.labels_.astype(float) / 6) # 6 is number of clusters\n",
    "ax2.scatter(pca_std_df[:, 0], pca_std_df[:, 1], marker='.', s=30, lw=0, alpha=0.7,\n",
    "                c=colors1, edgecolor='k')\n",
    "\n",
    "# Labeling the clusters\n",
    "centers1 = model1.cluster_centers_\n",
    "# Draw white circles at cluster centers\n",
    "ax2.scatter(centers1[:, 0], centers1[:, 1], marker='o',c=\"white\", alpha=1, s=200, edgecolor='k')\n",
    "\n",
    "for i, c in enumerate(centers1):\n",
    "    ax2.scatter(c[0], c[1], marker='$%d$' % i, alpha=1,s=50, edgecolor='k')\n",
    "\n",
    "\n",
    "ax2.set_title(label =\"The visualization of the clustered data.\")\n",
    "ax2.set_xlabel(\"Feature space for the 1st feature\")\n",
    "ax2.set_ylabel(\"Feature space for the 2nd feature\")\n",
    "\n",
    "plt.suptitle((\"Silhouette analysis for KMeans clustering on sample data \"\n",
    "                  \"with n_clusters = %d\" % 6),fontsize=14, fontweight='bold')\n",
    "\n",
    "sil_visualizer1.show()\n",
    "plt.show()\n"
   ]
  },
  {
   "cell_type": "markdown",
   "metadata": {},
   "source": [
    "## 5.1.4 Putting Cluster lables into original dataset And analysis of the same."
   ]
  },
  {
   "cell_type": "code",
   "execution_count": 116,
   "metadata": {},
   "outputs": [],
   "source": [
    "# Creating dataframe of cluster lables..\n",
    "\n",
    "model1_cluster = pd.DataFrame(model1.labels_.copy(), columns=['Kmeans_Clustering'])"
   ]
  },
  {
   "cell_type": "code",
   "execution_count": 119,
   "metadata": {},
   "outputs": [
    {
     "data": {
      "text/html": [
       "<div>\n",
       "<style scoped>\n",
       "    .dataframe tbody tr th:only-of-type {\n",
       "        vertical-align: middle;\n",
       "    }\n",
       "\n",
       "    .dataframe tbody tr th {\n",
       "        vertical-align: top;\n",
       "    }\n",
       "\n",
       "    .dataframe thead th {\n",
       "        text-align: right;\n",
       "    }\n",
       "</style>\n",
       "<table border=\"1\" class=\"dataframe\">\n",
       "  <thead>\n",
       "    <tr style=\"text-align: right;\">\n",
       "      <th></th>\n",
       "      <th>ID</th>\n",
       "      <th>Balance</th>\n",
       "      <th>Qual_miles</th>\n",
       "      <th>cc1_miles</th>\n",
       "      <th>cc2_miles</th>\n",
       "      <th>cc3_miles</th>\n",
       "      <th>Bonus_miles</th>\n",
       "      <th>Bonus_trans</th>\n",
       "      <th>Flight_miles_12mo</th>\n",
       "      <th>Flight_trans_12</th>\n",
       "      <th>Days_since_enroll</th>\n",
       "      <th>Award</th>\n",
       "      <th>Kmeans_Clustering</th>\n",
       "    </tr>\n",
       "  </thead>\n",
       "  <tbody>\n",
       "    <tr>\n",
       "      <th>0</th>\n",
       "      <td>1</td>\n",
       "      <td>28143</td>\n",
       "      <td>0</td>\n",
       "      <td>1</td>\n",
       "      <td>1</td>\n",
       "      <td>1</td>\n",
       "      <td>174</td>\n",
       "      <td>1</td>\n",
       "      <td>0</td>\n",
       "      <td>0</td>\n",
       "      <td>7000</td>\n",
       "      <td>0</td>\n",
       "      <td>1</td>\n",
       "    </tr>\n",
       "    <tr>\n",
       "      <th>1</th>\n",
       "      <td>2</td>\n",
       "      <td>19244</td>\n",
       "      <td>0</td>\n",
       "      <td>1</td>\n",
       "      <td>1</td>\n",
       "      <td>1</td>\n",
       "      <td>215</td>\n",
       "      <td>2</td>\n",
       "      <td>0</td>\n",
       "      <td>0</td>\n",
       "      <td>6968</td>\n",
       "      <td>0</td>\n",
       "      <td>1</td>\n",
       "    </tr>\n",
       "    <tr>\n",
       "      <th>2</th>\n",
       "      <td>3</td>\n",
       "      <td>41354</td>\n",
       "      <td>0</td>\n",
       "      <td>1</td>\n",
       "      <td>1</td>\n",
       "      <td>1</td>\n",
       "      <td>4123</td>\n",
       "      <td>4</td>\n",
       "      <td>0</td>\n",
       "      <td>0</td>\n",
       "      <td>7034</td>\n",
       "      <td>0</td>\n",
       "      <td>1</td>\n",
       "    </tr>\n",
       "    <tr>\n",
       "      <th>3</th>\n",
       "      <td>4</td>\n",
       "      <td>14776</td>\n",
       "      <td>0</td>\n",
       "      <td>1</td>\n",
       "      <td>1</td>\n",
       "      <td>1</td>\n",
       "      <td>500</td>\n",
       "      <td>1</td>\n",
       "      <td>0</td>\n",
       "      <td>0</td>\n",
       "      <td>6952</td>\n",
       "      <td>0</td>\n",
       "      <td>1</td>\n",
       "    </tr>\n",
       "    <tr>\n",
       "      <th>4</th>\n",
       "      <td>5</td>\n",
       "      <td>97752</td>\n",
       "      <td>0</td>\n",
       "      <td>4</td>\n",
       "      <td>1</td>\n",
       "      <td>1</td>\n",
       "      <td>43300</td>\n",
       "      <td>26</td>\n",
       "      <td>2077</td>\n",
       "      <td>4</td>\n",
       "      <td>6935</td>\n",
       "      <td>1</td>\n",
       "      <td>0</td>\n",
       "    </tr>\n",
       "  </tbody>\n",
       "</table>\n",
       "</div>"
      ],
      "text/plain": [
       "   ID  Balance  Qual_miles  cc1_miles  cc2_miles  cc3_miles  Bonus_miles  \\\n",
       "0   1    28143           0          1          1          1          174   \n",
       "1   2    19244           0          1          1          1          215   \n",
       "2   3    41354           0          1          1          1         4123   \n",
       "3   4    14776           0          1          1          1          500   \n",
       "4   5    97752           0          4          1          1        43300   \n",
       "\n",
       "   Bonus_trans  Flight_miles_12mo  Flight_trans_12  Days_since_enroll  Award  \\\n",
       "0            1                  0                0               7000      0   \n",
       "1            2                  0                0               6968      0   \n",
       "2            4                  0                0               7034      0   \n",
       "3            1                  0                0               6952      0   \n",
       "4           26               2077                4               6935      1   \n",
       "\n",
       "   Kmeans_Clustering  \n",
       "0                  1  \n",
       "1                  1  \n",
       "2                  1  \n",
       "3                  1  \n",
       "4                  0  "
      ]
     },
     "execution_count": 119,
     "metadata": {},
     "output_type": "execute_result"
    }
   ],
   "source": [
    "# Concating model1_Cluster df with main dataset copy\n",
    "\n",
    "Kmeans_df = pd.concat([dataset.copy(), model1_cluster], axis=1)\n",
    "Kmeans_df.head()"
   ]
  },
  {
   "cell_type": "code",
   "execution_count": 154,
   "metadata": {
    "scrolled": false
   },
   "outputs": [
    {
     "data": {
      "image/png": "[encoded data removed]",
      "text/plain": [
       "<Figure size 720x432 with 1 Axes>"
      ]
     },
     "metadata": {},
     "output_type": "display_data"
    }
   ],
   "source": [
    "# Plotting barplot using groupby method to get visualize how many row no. in each cluster\n",
    "\n",
    "fig, ax = plt.subplots(figsize=(10, 6))\n",
    "Kmeans_df.groupby(['Kmeans_Clustering']).count()['ID'].plot(kind='bar')\n",
    "plt.ylabel('ID Counts')\n",
    "plt.title('Kmeans Clustering (pca_std_df)',fontsize='large',fontweight='bold')\n",
    "ax.set_xlabel('Clusters', fontsize='large', fontweight='bold')\n",
    "ax.set_ylabel('ID counts', fontsize='large', fontweight='bold')\n",
    "plt.yticks(fontsize=15)\n",
    "plt.xticks(fontsize=15)\n",
    "plt.show()"
   ]
  },
  {
   "cell_type": "markdown",
   "metadata": {},
   "source": [
    "# Step 6: Hierarchical Clustering Algorithm"
   ]
  },
  {
   "cell_type": "markdown",
   "metadata": {},
   "source": [
    "<p align='justify'> The key operation in hierarchical agglomerative clustering is to repeatedly combine the two nearest clusters into a larger cluster. There are three key questions that need to be answered first: </p>"
   ]
  },
  {
   "cell_type": "markdown",
   "metadata": {},
   "source": [
    "[Hierarchical Clustering Sklearn](https://scikit-learn.org/stable/modules/generated/sklearn.cluster.AgglomerativeClustering.html)"
   ]
  },
  {
   "cell_type": "markdown",
   "metadata": {},
   "source": [
    "## 6.1 How many numbers of cluster. Also deciding which transformation data we will use to build model."
   ]
  },
  {
   "cell_type": "markdown",
   "metadata": {},
   "source": [
    " Qiuck Notes: \n",
    "\n",
    "linkage{“ward”, “complete”, “average”, “single”}, default=”ward”\n",
    "Which linkage criterion to use. The linkage criterion determines which distance to use between sets of observation. The algorithm will merge the pairs of cluster that minimize this criterion.\n",
    "\n",
    "* ward minimizes the variance of the clusters being merged.\n",
    "\n",
    "* average uses the average of the distances of each observation of the two sets.\n",
    "\n",
    "* complete or maximum linkage uses the maximum distances between all observations of the two sets.\n",
    "\n",
    "* single uses the minimum of the distances between all observations of the two sets."
   ]
  },
  {
   "cell_type": "markdown",
   "metadata": {},
   "source": [
    "##### First Stage: Taking stadardization transformation data & PCA applied on it.\n",
    "***"
   ]
  },
  {
   "cell_type": "markdown",
   "metadata": {},
   "source": [
    " #### Method1: By using Dendrogram"
   ]
  },
  {
   "cell_type": "code",
   "execution_count": 97,
   "metadata": {
    "scrolled": false
   },
   "outputs": [],
   "source": [
    "# Applying Dendrogram on PCA data. Or you may apply it on Standardized/normalized indepedent variable data.\n",
    "# Here diffrent linkage method from hyperparameter is used to see diff between methods for understanding. \n",
    "# Ward method is commanly used since it is simpler to visualize understanding.\n",
    "# Find number of cluster's using color coding of dendrogram. Each color indicates one cluster.\n",
    "\n",
    "# import scipy.cluster.hierarchy as shc\n",
    "# for methods in ['single','complete','average','weighted','centroid','median','ward']: \n",
    "#     plt.figure(figsize =(20, 6)) \n",
    "    \n",
    "#     dict = {'fontsize':24,'fontweight' :16, 'color' : 'blue'}\n",
    "    \n",
    "#     plt.title('Visualising the data, Method- {}'.format(methods),fontdict = dict) \n",
    "#     Dendrogram1 = shc.dendrogram(shc.linkage(pca_std_df, method = methods,optimal_ordering=False))\n",
    "    \n",
    "# Note: the execution of this cell takes time so i have attached output graphs below"
   ]
  },
  {
   "cell_type": "markdown",
   "metadata": {},
   "source": [
    "![](https://github.com/ShrikantUppin/Clustering/blob/main/dendro1_single.png?raw=true)"
   ]
  },
  {
   "cell_type": "markdown",
   "metadata": {},
   "source": [
    "![](https://github.com/ShrikantUppin/Clustering/blob/main/dendro1_complete.png?raw=true)"
   ]
  },
  {
   "cell_type": "markdown",
   "metadata": {},
   "source": [
    "![](https://github.com/ShrikantUppin/Clustering/blob/main/dendro1_average.png?raw=true)"
   ]
  },
  {
   "cell_type": "markdown",
   "metadata": {},
   "source": [
    "![](https://github.com/ShrikantUppin/Clustering/blob/main/dendr1_weighted.png?raw=true)"
   ]
  },
  {
   "cell_type": "markdown",
   "metadata": {},
   "source": [
    "![](https://github.com/ShrikantUppin/Clustering/blob/main/dendrogram1.png?raw=true)"
   ]
  },
  {
   "cell_type": "markdown",
   "metadata": {},
   "source": [
    "![](https://github.com/ShrikantUppin/Clustering/blob/main/dendro1_median.png?raw=true)"
   ]
  },
  {
   "cell_type": "markdown",
   "metadata": {},
   "source": [
    "![](https://github.com/ShrikantUppin/Clustering/blob/main/dendro1_ward.png?raw=true)"
   ]
  },
  {
   "cell_type": "markdown",
   "metadata": {},
   "source": [
    " #### Method 2: Silhouette Score method."
   ]
  },
  {
   "cell_type": "code",
   "execution_count": 98,
   "metadata": {},
   "outputs": [
    {
     "name": "stdout",
     "output_type": "stream",
     "text": [
      "For n_clusters = 2 The average silhouette_score with linkage- ward : 0.31396055949505675\n",
      "For n_clusters = 2 The average silhouette_score with linkage- complete : 0.8258402005485834\n",
      "For n_clusters = 2 The average silhouette_score with linkage- average : 0.8258402005485834\n",
      "For n_clusters = 2 The average silhouette_score with linkage- single : 0.7595573832017467\n",
      "\n",
      "For n_clusters = 3 The average silhouette_score with linkage- ward : 0.3099513555846737\n",
      "For n_clusters = 3 The average silhouette_score with linkage- complete : 0.7965798717740986\n",
      "For n_clusters = 3 The average silhouette_score with linkage- average : 0.7965798717740986\n",
      "For n_clusters = 3 The average silhouette_score with linkage- single : 0.7592925058168968\n",
      "\n",
      "For n_clusters = 4 The average silhouette_score with linkage- ward : 0.3282481973781312\n",
      "For n_clusters = 4 The average silhouette_score with linkage- complete : 0.6569044547102614\n",
      "For n_clusters = 4 The average silhouette_score with linkage- average : 0.6940154925011895\n",
      "For n_clusters = 4 The average silhouette_score with linkage- single : 0.5782302910327524\n",
      "\n",
      "For n_clusters = 5 The average silhouette_score with linkage- ward : 0.32184976822477984\n",
      "For n_clusters = 5 The average silhouette_score with linkage- complete : 0.5895211202883035\n",
      "For n_clusters = 5 The average silhouette_score with linkage- average : 0.6680397435345209\n",
      "For n_clusters = 5 The average silhouette_score with linkage- single : 0.5780925797482984\n",
      "\n",
      "For n_clusters = 6 The average silhouette_score with linkage- ward : 0.33657294558021594\n",
      "For n_clusters = 6 The average silhouette_score with linkage- complete : 0.6017997132632824\n",
      "For n_clusters = 6 The average silhouette_score with linkage- average : 0.6552479417757122\n",
      "For n_clusters = 6 The average silhouette_score with linkage- single : 0.5766100945284393\n",
      "\n",
      "For n_clusters = 7 The average silhouette_score with linkage- ward : 0.23686100392100007\n",
      "For n_clusters = 7 The average silhouette_score with linkage- complete : 0.6070381387662968\n",
      "For n_clusters = 7 The average silhouette_score with linkage- average : 0.6523313170802647\n",
      "For n_clusters = 7 The average silhouette_score with linkage- single : 0.5774252640782926\n",
      "\n",
      "For n_clusters = 8 The average silhouette_score with linkage- ward : 0.2327646244507866\n",
      "For n_clusters = 8 The average silhouette_score with linkage- complete : 0.6026762863226718\n",
      "For n_clusters = 8 The average silhouette_score with linkage- average : 0.6481701789160176\n",
      "For n_clusters = 8 The average silhouette_score with linkage- single : 0.5741494479569036\n",
      "\n"
     ]
    }
   ],
   "source": [
    "from sklearn.cluster import AgglomerativeClustering\n",
    "n_clusters = [2,3,4,5,6,7,8]  # always start number from 2.\n",
    "\n",
    "for n_clusters in n_clusters:\n",
    "    for linkages in [\"ward\", \"complete\", \"average\", \"single\"]:\n",
    "        hie_cluster1 = AgglomerativeClustering(n_clusters=n_clusters,linkage=linkages) # bydefault it takes linkage 'ward'\n",
    "        hie_labels1 = hie_cluster1.fit_predict(pca_std_df)\n",
    "        silhouette_score1 = silhouette_score(pca_std_df, hie_labels1)\n",
    "        print(\"For n_clusters =\", n_clusters,\"The average silhouette_score with linkage-\",linkages, ':',silhouette_score1)\n",
    "    print()\n"
   ]
  },
  {
   "cell_type": "markdown",
   "metadata": {},
   "source": [
    " Conclusion: Although max score is with cluster numbers 4. I have selected tcluster number = 5"
   ]
  },
  {
   "cell_type": "markdown",
   "metadata": {},
   "source": [
    "##### Second Stage: Taking MinMax transformation data & PCA applied on it.\n",
    "***"
   ]
  },
  {
   "cell_type": "code",
   "execution_count": 99,
   "metadata": {},
   "outputs": [],
   "source": [
    " ### Here i have avoded to apply dendrogram since it takes time to run code."
   ]
  },
  {
   "cell_type": "code",
   "execution_count": 100,
   "metadata": {},
   "outputs": [
    {
     "name": "stdout",
     "output_type": "stream",
     "text": [
      "For n_clusters = 2 The average silhouette_score with linkage- ward : 0.4526351664478744\n",
      "For n_clusters = 2 The average silhouette_score with linkage- complete : 0.585780896047594\n",
      "For n_clusters = 2 The average silhouette_score with linkage- average : 0.5003973034034864\n",
      "For n_clusters = 2 The average silhouette_score with linkage- single : 0.6061073734453646\n",
      "\n",
      "For n_clusters = 3 The average silhouette_score with linkage- ward : 0.3739125364654645\n",
      "For n_clusters = 3 The average silhouette_score with linkage- complete : 0.4542833655116025\n",
      "For n_clusters = 3 The average silhouette_score with linkage- average : 0.45064261018788887\n",
      "For n_clusters = 3 The average silhouette_score with linkage- single : 0.5029366855064077\n",
      "\n",
      "For n_clusters = 4 The average silhouette_score with linkage- ward : 0.3654778699731554\n",
      "For n_clusters = 4 The average silhouette_score with linkage- complete : 0.45615471007123654\n",
      "For n_clusters = 4 The average silhouette_score with linkage- average : 0.39465688584567526\n",
      "For n_clusters = 4 The average silhouette_score with linkage- single : 0.2836036321194906\n",
      "\n",
      "For n_clusters = 5 The average silhouette_score with linkage- ward : 0.3581084898031201\n",
      "For n_clusters = 5 The average silhouette_score with linkage- complete : 0.440805402698052\n",
      "For n_clusters = 5 The average silhouette_score with linkage- average : 0.3475089360576499\n",
      "For n_clusters = 5 The average silhouette_score with linkage- single : 0.2809218844813488\n",
      "\n",
      "For n_clusters = 6 The average silhouette_score with linkage- ward : 0.3713800645711787\n",
      "For n_clusters = 6 The average silhouette_score with linkage- complete : 0.385722734944869\n",
      "For n_clusters = 6 The average silhouette_score with linkage- average : 0.27668208148681295\n",
      "For n_clusters = 6 The average silhouette_score with linkage- single : 0.1251952683330901\n",
      "\n",
      "For n_clusters = 7 The average silhouette_score with linkage- ward : 0.3533060073536759\n",
      "For n_clusters = 7 The average silhouette_score with linkage- complete : 0.36046180810215317\n",
      "For n_clusters = 7 The average silhouette_score with linkage- average : 0.25130821023106287\n",
      "For n_clusters = 7 The average silhouette_score with linkage- single : 0.12556369270216192\n",
      "\n",
      "For n_clusters = 8 The average silhouette_score with linkage- ward : 0.3552135619542657\n",
      "For n_clusters = 8 The average silhouette_score with linkage- complete : 0.3665436590430837\n",
      "For n_clusters = 8 The average silhouette_score with linkage- average : 0.417040163790949\n",
      "For n_clusters = 8 The average silhouette_score with linkage- single : 0.12375399619447865\n",
      "\n"
     ]
    }
   ],
   "source": [
    "from sklearn.cluster import AgglomerativeClustering\n",
    "n_clusters = [2,3,4,5,6,7,8]  # always start number from 2.\n",
    "\n",
    "for n_clusters in n_clusters:\n",
    "    for linkages in [\"ward\", \"complete\", \"average\", \"single\"]:\n",
    "        hie_cluster2 = AgglomerativeClustering(n_clusters=n_clusters,linkage=linkages) # bydefault it takes linkage 'ward'\n",
    "        hie_labels2 = hie_cluster2.fit_predict(pca_minmax_df)\n",
    "        silhouette_score2 = silhouette_score(pca_minmax_df, hie_labels2)\n",
    "        print(\"For n_clusters =\", n_clusters,\"The average silhouette_score with linkage-\",linkages, ':',silhouette_score2)\n",
    "    print()"
   ]
  },
  {
   "cell_type": "markdown",
   "metadata": {},
   "source": [
    " Conclusion: dataset with MinMax transformation & PCA applied on it doesn't imporoved score here. So i am taking previous cell code conclusion."
   ]
  },
  {
   "cell_type": "markdown",
   "metadata": {},
   "source": [
    "## 6.2 Run Hierarchical Clustering.(Agglomerative Clustering)"
   ]
  },
  {
   "cell_type": "code",
   "execution_count": 142,
   "metadata": {},
   "outputs": [
    {
     "name": "stdout",
     "output_type": "stream",
     "text": [
      "(3999,)\n"
     ]
    },
    {
     "data": {
      "text/plain": [
       "array([0, 0, 0, ..., 0, 0, 0], dtype=int64)"
      ]
     },
     "execution_count": 142,
     "metadata": {},
     "output_type": "execute_result"
    }
   ],
   "source": [
    "agg_clustering = AgglomerativeClustering(n_clusters=5, linkage='average')\n",
    "y_pred_hie = agg_clustering.fit_predict(pca_std_df)\n",
    "print(y_pred_hie.shape)\n",
    "y_pred_hie\n"
   ]
  },
  {
   "cell_type": "code",
   "execution_count": 143,
   "metadata": {},
   "outputs": [
    {
     "data": {
      "text/plain": [
       "5"
      ]
     },
     "execution_count": 143,
     "metadata": {},
     "output_type": "execute_result"
    }
   ],
   "source": [
    "# Cluster numbers\n",
    "\n",
    "agg_clustering.n_clusters_"
   ]
  },
  {
   "cell_type": "code",
   "execution_count": 144,
   "metadata": {},
   "outputs": [
    {
     "data": {
      "text/plain": [
       "array([0, 0, 0, ..., 0, 0, 0], dtype=int64)"
      ]
     },
     "execution_count": 144,
     "metadata": {},
     "output_type": "execute_result"
    }
   ],
   "source": [
    "# cluster labels for each point\n",
    "\n",
    "agg_clustering.labels_"
   ]
  },
  {
   "cell_type": "code",
   "execution_count": 145,
   "metadata": {},
   "outputs": [
    {
     "data": {
      "text/plain": [
       "3999"
      ]
     },
     "execution_count": 145,
     "metadata": {},
     "output_type": "execute_result"
    }
   ],
   "source": [
    "# Number of leaves in the hierarchical tree.\n",
    "\n",
    "agg_clustering.n_leaves_"
   ]
  },
  {
   "cell_type": "code",
   "execution_count": 146,
   "metadata": {},
   "outputs": [
    {
     "data": {
      "text/plain": [
       "1"
      ]
     },
     "execution_count": 146,
     "metadata": {},
     "output_type": "execute_result"
    }
   ],
   "source": [
    "# The estimated number of connected components in the graph.\n",
    "\n",
    "agg_clustering.n_connected_components_"
   ]
  },
  {
   "cell_type": "code",
   "execution_count": 147,
   "metadata": {},
   "outputs": [
    {
     "data": {
      "text/plain": [
       "array([[3370, 3876],\n",
       "       [1826, 2121],\n",
       "       [2678, 2679],\n",
       "       ...,\n",
       "       [7991, 7993],\n",
       "       [7986, 7994],\n",
       "       [7988, 7995]])"
      ]
     },
     "execution_count": 147,
     "metadata": {},
     "output_type": "execute_result"
    }
   ],
   "source": [
    "# The children of each non-leaf node. Values less than n_samples correspond to leaves of \n",
    "#......the tree which are the original samples. A node i greater than or equal to n_samples \n",
    "#.........is a non-leaf node and has children children_[i - n_samples]. Alternatively at the \n",
    "#...........i-th iteration, children[i][0] and children[i][1] are merged to form node n_samples + i\n",
    "\n",
    "agg_clustering.children_"
   ]
  },
  {
   "cell_type": "code",
   "execution_count": 148,
   "metadata": {},
   "outputs": [
    {
     "data": {
      "text/plain": [
       "66.804"
      ]
     },
     "execution_count": 148,
     "metadata": {},
     "output_type": "execute_result"
    }
   ],
   "source": [
    "# Clustering Score\n",
    "\n",
    "(silhouette_score(pca_std_df, agg_clustering.labels_)*100).round(3)"
   ]
  },
  {
   "cell_type": "code",
   "execution_count": 149,
   "metadata": {},
   "outputs": [
    {
     "data": {
      "image/png": "[encoded data removed]",
      "text/plain": [
       "<Figure size 1440x432 with 1 Axes>"
      ]
     },
     "metadata": {},
     "output_type": "display_data"
    }
   ],
   "source": [
    "# Plotting Dendrogram.\n",
    "\n",
    "import scipy.cluster.hierarchy as shc\n",
    "for methods in ['average']: \n",
    "    plt.figure(figsize =(20, 6)) \n",
    "    \n",
    "    dict = {'fontsize':24,'fontweight' :16, 'color' : 'blue'}\n",
    "    \n",
    "    plt.title('Visualising the data, Method- {}'.format(methods),fontdict = dict) \n",
    "    Dendrogram2 = shc.dendrogram(shc.linkage(pca_std_df, method = methods,optimal_ordering=False))"
   ]
  },
  {
   "cell_type": "markdown",
   "metadata": {},
   "source": [
    "## 6.4 Putting Cluster lables into original dataset And analysis of the same."
   ]
  },
  {
   "cell_type": "code",
   "execution_count": 150,
   "metadata": {},
   "outputs": [],
   "source": [
    "# Creating dataframe of cluster lables..\n",
    "\n",
    "hie_cluster = pd.DataFrame(agg_clustering.labels_.copy(), columns=['Hie_Clustering'])"
   ]
  },
  {
   "cell_type": "code",
   "execution_count": 151,
   "metadata": {},
   "outputs": [
    {
     "data": {
      "text/html": [
       "<div>\n",
       "<style scoped>\n",
       "    .dataframe tbody tr th:only-of-type {\n",
       "        vertical-align: middle;\n",
       "    }\n",
       "\n",
       "    .dataframe tbody tr th {\n",
       "        vertical-align: top;\n",
       "    }\n",
       "\n",
       "    .dataframe thead th {\n",
       "        text-align: right;\n",
       "    }\n",
       "</style>\n",
       "<table border=\"1\" class=\"dataframe\">\n",
       "  <thead>\n",
       "    <tr style=\"text-align: right;\">\n",
       "      <th></th>\n",
       "      <th>ID</th>\n",
       "      <th>Balance</th>\n",
       "      <th>Qual_miles</th>\n",
       "      <th>cc1_miles</th>\n",
       "      <th>cc2_miles</th>\n",
       "      <th>cc3_miles</th>\n",
       "      <th>Bonus_miles</th>\n",
       "      <th>Bonus_trans</th>\n",
       "      <th>Flight_miles_12mo</th>\n",
       "      <th>Flight_trans_12</th>\n",
       "      <th>Days_since_enroll</th>\n",
       "      <th>Award</th>\n",
       "      <th>Hie_Clustering</th>\n",
       "    </tr>\n",
       "  </thead>\n",
       "  <tbody>\n",
       "    <tr>\n",
       "      <th>0</th>\n",
       "      <td>1</td>\n",
       "      <td>28143</td>\n",
       "      <td>0</td>\n",
       "      <td>1</td>\n",
       "      <td>1</td>\n",
       "      <td>1</td>\n",
       "      <td>174</td>\n",
       "      <td>1</td>\n",
       "      <td>0</td>\n",
       "      <td>0</td>\n",
       "      <td>7000</td>\n",
       "      <td>0</td>\n",
       "      <td>0</td>\n",
       "    </tr>\n",
       "    <tr>\n",
       "      <th>1</th>\n",
       "      <td>2</td>\n",
       "      <td>19244</td>\n",
       "      <td>0</td>\n",
       "      <td>1</td>\n",
       "      <td>1</td>\n",
       "      <td>1</td>\n",
       "      <td>215</td>\n",
       "      <td>2</td>\n",
       "      <td>0</td>\n",
       "      <td>0</td>\n",
       "      <td>6968</td>\n",
       "      <td>0</td>\n",
       "      <td>0</td>\n",
       "    </tr>\n",
       "    <tr>\n",
       "      <th>2</th>\n",
       "      <td>3</td>\n",
       "      <td>41354</td>\n",
       "      <td>0</td>\n",
       "      <td>1</td>\n",
       "      <td>1</td>\n",
       "      <td>1</td>\n",
       "      <td>4123</td>\n",
       "      <td>4</td>\n",
       "      <td>0</td>\n",
       "      <td>0</td>\n",
       "      <td>7034</td>\n",
       "      <td>0</td>\n",
       "      <td>0</td>\n",
       "    </tr>\n",
       "    <tr>\n",
       "      <th>3</th>\n",
       "      <td>4</td>\n",
       "      <td>14776</td>\n",
       "      <td>0</td>\n",
       "      <td>1</td>\n",
       "      <td>1</td>\n",
       "      <td>1</td>\n",
       "      <td>500</td>\n",
       "      <td>1</td>\n",
       "      <td>0</td>\n",
       "      <td>0</td>\n",
       "      <td>6952</td>\n",
       "      <td>0</td>\n",
       "      <td>0</td>\n",
       "    </tr>\n",
       "    <tr>\n",
       "      <th>4</th>\n",
       "      <td>5</td>\n",
       "      <td>97752</td>\n",
       "      <td>0</td>\n",
       "      <td>4</td>\n",
       "      <td>1</td>\n",
       "      <td>1</td>\n",
       "      <td>43300</td>\n",
       "      <td>26</td>\n",
       "      <td>2077</td>\n",
       "      <td>4</td>\n",
       "      <td>6935</td>\n",
       "      <td>1</td>\n",
       "      <td>0</td>\n",
       "    </tr>\n",
       "  </tbody>\n",
       "</table>\n",
       "</div>"
      ],
      "text/plain": [
       "   ID  Balance  Qual_miles  cc1_miles  cc2_miles  cc3_miles  Bonus_miles  \\\n",
       "0   1    28143           0          1          1          1          174   \n",
       "1   2    19244           0          1          1          1          215   \n",
       "2   3    41354           0          1          1          1         4123   \n",
       "3   4    14776           0          1          1          1          500   \n",
       "4   5    97752           0          4          1          1        43300   \n",
       "\n",
       "   Bonus_trans  Flight_miles_12mo  Flight_trans_12  Days_since_enroll  Award  \\\n",
       "0            1                  0                0               7000      0   \n",
       "1            2                  0                0               6968      0   \n",
       "2            4                  0                0               7034      0   \n",
       "3            1                  0                0               6952      0   \n",
       "4           26               2077                4               6935      1   \n",
       "\n",
       "   Hie_Clustering  \n",
       "0               0  \n",
       "1               0  \n",
       "2               0  \n",
       "3               0  \n",
       "4               0  "
      ]
     },
     "execution_count": 151,
     "metadata": {},
     "output_type": "execute_result"
    }
   ],
   "source": [
    "# Concating model1_Cluster df with main dataset copy\n",
    "\n",
    "hie_df = pd.concat([dataset.copy(), hie_cluster], axis=1)\n",
    "hie_df .head()"
   ]
  },
  {
   "cell_type": "code",
   "execution_count": 153,
   "metadata": {},
   "outputs": [
    {
     "data": {
      "image/png": "[encoded data removed]",
      "text/plain": [
       "<Figure size 720x432 with 1 Axes>"
      ]
     },
     "metadata": {},
     "output_type": "display_data"
    }
   ],
   "source": [
    "# Plotting barplot using groupby method to get visualize how many row no. in each cluster\n",
    "\n",
    "fig, ax = plt.subplots(figsize=(10, 6))\n",
    "hie_df.groupby(['Hie_Clustering']).count()['ID'].plot(kind='bar')\n",
    "plt.ylabel('ID Counts')\n",
    "plt.title('Hierarchical Clustering (pca_std_df)',fontsize='large',fontweight='bold')\n",
    "ax.set_xlabel('Clusters', fontsize='large', fontweight='bold')\n",
    "ax.set_ylabel('ID counts', fontsize='large', fontweight='bold')\n",
    "plt.yticks(fontsize=15)\n",
    "plt.xticks(fontsize=15)\n",
    "plt.show()"
   ]
  },
  {
   "cell_type": "code",
   "execution_count": null,
   "metadata": {},
   "outputs": [],
   "source": []
  },
  {
   "cell_type": "markdown",
   "metadata": {},
   "source": [
    "# Step 7: Conclusion Between Kmeans & Hierarchical"
   ]
  },
  {
   "cell_type": "code",
   "execution_count": null,
   "metadata": {},
   "outputs": [],
   "source": []
  }
 ],
 "metadata": {
  "kernelspec": {
   "display_name": "Python 3",
   "language": "python",
   "name": "python3"
  },
  "language_info": {
   "codemirror_mode": {
    "name": "ipython",
    "version": 3
   },
   "file_extension": ".py",
   "mimetype": "text/x-python",
   "name": "python",
   "nbconvert_exporter": "python",
   "pygments_lexer": "ipython3",
   "version": "3.8.3"
  },
  "toc": {
   "base_numbering": 1,
   "nav_menu": {},
   "number_sections": true,
   "sideBar": true,
   "skip_h1_title": false,
   "title_cell": "Table of Contents",
   "title_sidebar": "Contents",
   "toc_cell": false,
   "toc_position": {},
   "toc_section_display": true,
   "toc_window_display": false
  }
 },
 "nbformat": 4,
 "nbformat_minor": 4
}
